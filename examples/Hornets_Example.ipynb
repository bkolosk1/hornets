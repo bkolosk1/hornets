{
  "cells": [
    {
      "cell_type": "markdown",
      "metadata": {
        "id": "view-in-github",
        "colab_type": "text"
      },
      "source": [
        "<a href=\"https://colab.research.google.com/github/bkolosk1/hornets/blob/main/examples/Hornets_Example.ipynb\" target=\"_parent\"><img src=\"https://colab.research.google.com/assets/colab-badge.svg\" alt=\"Open In Colab\"/></a>"
      ]
    },
    {
      "cell_type": "code",
      "execution_count": 11,
      "metadata": {
        "colab": {
          "base_uri": "https://localhost:8080/"
        },
        "id": "eLuv5mMTo1pi",
        "outputId": "45cd4dc5-7c51-47be-a2ad-1a7d2ddd29f1"
      },
      "outputs": [
        {
          "output_type": "stream",
          "name": "stdout",
          "text": [
            "Collecting git+https://github.com/bkolosk1/hornets.git\n",
            "  Cloning https://github.com/bkolosk1/hornets.git to /tmp/pip-req-build-lcaq8py2\n",
            "  Running command git clone --filter=blob:none --quiet https://github.com/bkolosk1/hornets.git /tmp/pip-req-build-lcaq8py2\n",
            "  Resolved https://github.com/bkolosk1/hornets.git to commit 8130049d127413fe4200a04cccb105cc8b258391\n",
            "  Installing build dependencies ... \u001b[?25l\u001b[?25hdone\n",
            "  Getting requirements to build wheel ... \u001b[?25l\u001b[?25hdone\n",
            "  Preparing metadata (pyproject.toml) ... \u001b[?25l\u001b[?25hdone\n",
            "Requirement already satisfied: scikit-learn<2.0.0,>=1.6.1 in /usr/local/lib/python3.11/dist-packages (from hornets==0.1.1) (1.6.1)\n",
            "Requirement already satisfied: torch<3.0.0,>=2.5.1 in /usr/local/lib/python3.11/dist-packages (from hornets==0.1.1) (2.5.1+cu121)\n",
            "Requirement already satisfied: torchaudio<3.0.0,>=2.5.1 in /usr/local/lib/python3.11/dist-packages (from hornets==0.1.1) (2.5.1+cu121)\n",
            "Requirement already satisfied: torchvision<0.21.0,>=0.20.1 in /usr/local/lib/python3.11/dist-packages (from hornets==0.1.1) (0.20.1+cu121)\n",
            "Requirement already satisfied: tqdm<5.0.0,>=4.67.1 in /usr/local/lib/python3.11/dist-packages (from hornets==0.1.1) (4.67.1)\n",
            "Requirement already satisfied: numpy>=1.19.5 in /usr/local/lib/python3.11/dist-packages (from scikit-learn<2.0.0,>=1.6.1->hornets==0.1.1) (1.26.4)\n",
            "Requirement already satisfied: scipy>=1.6.0 in /usr/local/lib/python3.11/dist-packages (from scikit-learn<2.0.0,>=1.6.1->hornets==0.1.1) (1.13.1)\n",
            "Requirement already satisfied: joblib>=1.2.0 in /usr/local/lib/python3.11/dist-packages (from scikit-learn<2.0.0,>=1.6.1->hornets==0.1.1) (1.4.2)\n",
            "Requirement already satisfied: threadpoolctl>=3.1.0 in /usr/local/lib/python3.11/dist-packages (from scikit-learn<2.0.0,>=1.6.1->hornets==0.1.1) (3.5.0)\n",
            "Requirement already satisfied: filelock in /usr/local/lib/python3.11/dist-packages (from torch<3.0.0,>=2.5.1->hornets==0.1.1) (3.17.0)\n",
            "Requirement already satisfied: typing-extensions>=4.8.0 in /usr/local/lib/python3.11/dist-packages (from torch<3.0.0,>=2.5.1->hornets==0.1.1) (4.12.2)\n",
            "Requirement already satisfied: networkx in /usr/local/lib/python3.11/dist-packages (from torch<3.0.0,>=2.5.1->hornets==0.1.1) (3.4.2)\n",
            "Requirement already satisfied: jinja2 in /usr/local/lib/python3.11/dist-packages (from torch<3.0.0,>=2.5.1->hornets==0.1.1) (3.1.5)\n",
            "Requirement already satisfied: fsspec in /usr/local/lib/python3.11/dist-packages (from torch<3.0.0,>=2.5.1->hornets==0.1.1) (2024.10.0)\n",
            "Requirement already satisfied: nvidia-cuda-nvrtc-cu12==12.1.105 in /usr/local/lib/python3.11/dist-packages (from torch<3.0.0,>=2.5.1->hornets==0.1.1) (12.1.105)\n",
            "Requirement already satisfied: nvidia-cuda-runtime-cu12==12.1.105 in /usr/local/lib/python3.11/dist-packages (from torch<3.0.0,>=2.5.1->hornets==0.1.1) (12.1.105)\n",
            "Requirement already satisfied: nvidia-cuda-cupti-cu12==12.1.105 in /usr/local/lib/python3.11/dist-packages (from torch<3.0.0,>=2.5.1->hornets==0.1.1) (12.1.105)\n",
            "Requirement already satisfied: nvidia-cudnn-cu12==9.1.0.70 in /usr/local/lib/python3.11/dist-packages (from torch<3.0.0,>=2.5.1->hornets==0.1.1) (9.1.0.70)\n",
            "Requirement already satisfied: nvidia-cublas-cu12==12.1.3.1 in /usr/local/lib/python3.11/dist-packages (from torch<3.0.0,>=2.5.1->hornets==0.1.1) (12.1.3.1)\n",
            "Requirement already satisfied: nvidia-cufft-cu12==11.0.2.54 in /usr/local/lib/python3.11/dist-packages (from torch<3.0.0,>=2.5.1->hornets==0.1.1) (11.0.2.54)\n",
            "Requirement already satisfied: nvidia-curand-cu12==10.3.2.106 in /usr/local/lib/python3.11/dist-packages (from torch<3.0.0,>=2.5.1->hornets==0.1.1) (10.3.2.106)\n",
            "Requirement already satisfied: nvidia-cusolver-cu12==11.4.5.107 in /usr/local/lib/python3.11/dist-packages (from torch<3.0.0,>=2.5.1->hornets==0.1.1) (11.4.5.107)\n",
            "Requirement already satisfied: nvidia-cusparse-cu12==12.1.0.106 in /usr/local/lib/python3.11/dist-packages (from torch<3.0.0,>=2.5.1->hornets==0.1.1) (12.1.0.106)\n",
            "Requirement already satisfied: nvidia-nccl-cu12==2.21.5 in /usr/local/lib/python3.11/dist-packages (from torch<3.0.0,>=2.5.1->hornets==0.1.1) (2.21.5)\n",
            "Requirement already satisfied: nvidia-nvtx-cu12==12.1.105 in /usr/local/lib/python3.11/dist-packages (from torch<3.0.0,>=2.5.1->hornets==0.1.1) (12.1.105)\n",
            "Requirement already satisfied: triton==3.1.0 in /usr/local/lib/python3.11/dist-packages (from torch<3.0.0,>=2.5.1->hornets==0.1.1) (3.1.0)\n",
            "Requirement already satisfied: sympy==1.13.1 in /usr/local/lib/python3.11/dist-packages (from torch<3.0.0,>=2.5.1->hornets==0.1.1) (1.13.1)\n",
            "Requirement already satisfied: nvidia-nvjitlink-cu12 in /usr/local/lib/python3.11/dist-packages (from nvidia-cusolver-cu12==11.4.5.107->torch<3.0.0,>=2.5.1->hornets==0.1.1) (12.6.85)\n",
            "Requirement already satisfied: mpmath<1.4,>=1.1.0 in /usr/local/lib/python3.11/dist-packages (from sympy==1.13.1->torch<3.0.0,>=2.5.1->hornets==0.1.1) (1.3.0)\n",
            "Requirement already satisfied: pillow!=8.3.*,>=5.3.0 in /usr/local/lib/python3.11/dist-packages (from torchvision<0.21.0,>=0.20.1->hornets==0.1.1) (11.1.0)\n",
            "Requirement already satisfied: MarkupSafe>=2.0 in /usr/local/lib/python3.11/dist-packages (from jinja2->torch<3.0.0,>=2.5.1->hornets==0.1.1) (3.0.2)\n"
          ]
        }
      ],
      "source": [
        "!pip install git+https://github.com/bkolosk1/hornets.git"
      ]
    },
    {
      "cell_type": "code",
      "execution_count": 12,
      "metadata": {
        "id": "U5SlXzi_o0bZ"
      },
      "outputs": [],
      "source": [
        "from sklearn.model_selection import train_test_split\n",
        "from sklearn.metrics import classification_report\n",
        "from hornets import HorNetClassifier, generate_synthetic_data"
      ]
    },
    {
      "cell_type": "code",
      "execution_count": 13,
      "metadata": {
        "id": "sFte8WhWpO95"
      },
      "outputs": [],
      "source": [
        "# Generate synthetic data\n",
        "X, y = generate_synthetic_data(\n",
        "    num_features=64,\n",
        "    num_instances=128,\n",
        "    operation=\"xor\"\n",
        ")"
      ]
    },
    {
      "cell_type": "code",
      "execution_count": 14,
      "metadata": {
        "id": "NtnjUIDZpQj6"
      },
      "outputs": [],
      "source": [
        "# Split into training and testing sets\n",
        "X_train, X_test, y_train, y_test = train_test_split(\n",
        "    X, y, test_size=0.2, random_state=42\n",
        ")"
      ]
    },
    {
      "cell_type": "code",
      "execution_count": 15,
      "metadata": {
        "id": "9eyYDKntpRsK"
      },
      "outputs": [],
      "source": [
        "# Initialize and train HorNetClassifier\n",
        "classifier = HorNetClassifier(\n",
        "    num_rules=256,\n",
        "    exp_param=4,\n",
        "    activation=\"polyclip\",\n",
        "    order=5,\n",
        "    learning_rate=0.1,\n",
        "    batch_size=10,\n",
        "    stopping_crit=100,\n",
        "    num_epochs=500,\n",
        "    verbose=False\n",
        ")"
      ]
    },
    {
      "cell_type": "code",
      "execution_count": null,
      "metadata": {
        "colab": {
          "background_save": true
        },
        "id": "0ET_xMTWpTIi"
      },
      "outputs": [],
      "source": [
        "classifier.fit(X_train, y_train)"
      ]
    },
    {
      "cell_type": "code",
      "execution_count": null,
      "metadata": {
        "id": "DU9Ab62IpUGa"
      },
      "outputs": [],
      "source": [
        "# Predict on test data\n",
        "y_pred = classifier.predict(X_test)\n",
        "\n",
        "# Evaluate\n",
        "print(\"Classification Report:\")\n",
        "print(classification_report(y_test, y_pred))"
      ]
    }
  ],
  "metadata": {
    "colab": {
      "provenance": [],
      "authorship_tag": "ABX9TyM7AK1qGAdgGOMTYAYZ2uQ6",
      "include_colab_link": true
    },
    "kernelspec": {
      "display_name": "Python 3",
      "name": "python3"
    },
    "language_info": {
      "name": "python"
    }
  },
  "nbformat": 4,
  "nbformat_minor": 0
}